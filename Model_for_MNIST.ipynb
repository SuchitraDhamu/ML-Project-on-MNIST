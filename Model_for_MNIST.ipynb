{
 "cells": [
  {
   "cell_type": "markdown",
   "metadata": {},
   "source": [
    "Training a neural network on MNIST data imported using **Pytorch**, find examples that \"fool\" that trained network and propose a way to deal with these examples."
   ]
  },
  {
   "cell_type": "code",
   "execution_count": 267,
   "metadata": {},
   "outputs": [],
   "source": [
    "import torch\n",
    "import numpy as np\n",
    "import matplotlib.pyplot as plt\n",
    "from torch import nn\n",
    "import torchvision\n",
    "from torchvision import datasets,transforms\n",
    "import matplotlib.pyplot as plt\n"
   ]
  },
  {
   "cell_type": "code",
   "execution_count": 268,
   "metadata": {},
   "outputs": [],
   "source": [
    "transform = transforms.Compose([transforms.ToTensor()\n",
    "                              ])\n",
    "mnist_trainset = datasets.MNIST(root='./data', train=True, download=True, transform=transform)\n",
    "train_set, test_set = torch.utils.data.random_split(mnist_trainset, [50000, 10000])\n",
    "mnist_testset = datasets.MNIST(root='./data', train=False, download=True, transform=transform)\n"
   ]
  },
  {
   "cell_type": "code",
   "execution_count": 269,
   "metadata": {},
   "outputs": [],
   "source": [
    "\n",
    "trainData = torch.utils.data.DataLoader(train_set, batch_size=100, shuffle=True)\n",
    "valData = torch.utils.data.DataLoader(test_set, batch_size=1, shuffle=True)\n",
    "testData = torch.utils.data.DataLoader(mnist_testset, batch_size=100,shuffle=True)"
   ]
  },
  {
   "cell_type": "code",
   "execution_count": 270,
   "metadata": {
    "scrolled": true
   },
   "outputs": [
    {
     "data": {
      "text/plain": [
       "<matplotlib.image.AxesImage at 0x227bc0fadd0>"
      ]
     },
     "execution_count": 270,
     "metadata": {},
     "output_type": "execute_result"
    },
    {
     "data": {
      "image/png": "[encoded data removed]",
      "text/plain": [
       "<Figure size 432x288 with 1 Axes>"
      ]
     },
     "metadata": {
      "needs_background": "light"
     },
     "output_type": "display_data"
    }
   ],
   "source": [
    "plt.imshow(mnist_trainset[0][0][0])"
   ]
  },
  {
   "cell_type": "code",
   "execution_count": 271,
   "metadata": {},
   "outputs": [],
   "source": [
    "import torch.nn.functional as F\n",
    "class CNN(nn.Module):\n",
    "    def __init__(self):\n",
    "        super(CNN, self).__init__()\n",
    "        self.conv1 = nn.Sequential(         \n",
    "            nn.Conv2d(\n",
    "                in_channels=1,              \n",
    "                out_channels=15,            \n",
    "                kernel_size=5,              \n",
    "                stride=1,               \n",
    "            ),    \n",
    "            nn.MaxPool2d(kernel_size=2), \n",
    "            nn.ReLU(),                           \n",
    "        )\n",
    "        self.conv2 = nn.Sequential(         \n",
    "            nn.Conv2d(15, 30, 5), \n",
    "            nn.Dropout2d(0.5),\n",
    "            nn.MaxPool2d(2),\n",
    "            nn.ReLU(),                                   \n",
    "        )\n",
    "        # fully connected layer, output 10 classes\n",
    "        self.fc1 = nn.Linear(480,64)\n",
    "        self.fc2 = nn.Linear(64,10) \n",
    "        self.dropout = nn.Dropout2d(0.5)\n",
    "    def forward(self, x):\n",
    "        x = self.conv1(x)\n",
    "        x = self.conv2(x)\n",
    "        x = x.view(x.size(0), -1)     \n",
    "        x = F.relu(self.fc1(x))\n",
    "        x = self.dropout(x)\n",
    "        x = self.fc2(x)\n",
    "        output = F.log_softmax(x, dim = 1)\n",
    "        return output\n",
    "cnn = CNN()\n"
   ]
  },
  {
   "cell_type": "code",
   "execution_count": 272,
   "metadata": {
    "scrolled": false
   },
   "outputs": [
    {
     "name": "stdout",
     "output_type": "stream",
     "text": [
      "Epoch [1/10],  Loss: 1.3709\n",
      "Epoch [2/10],  Loss: 1.2777\n",
      "Epoch [3/10],  Loss: 1.2688\n",
      "Epoch [4/10],  Loss: 1.2616\n",
      "Epoch [5/10],  Loss: 1.2593\n",
      "Epoch [6/10],  Loss: 1.2494\n",
      "Epoch [7/10],  Loss: 1.2508\n",
      "Epoch [8/10],  Loss: 1.2354\n",
      "Epoch [9/10],  Loss: 1.2516\n",
      "Epoch [10/10],  Loss: 1.2336\n"
     ]
    }
   ],
   "source": [
    "loss_func = nn.CrossEntropyLoss()   \n",
    "\n",
    "from torch import optim\n",
    "from torch.autograd import Variable\n",
    "\n",
    "def train(num_epochs, cnn, loaders, Temp = 0):\n",
    "    loss_val = []\n",
    "    cnn.train()\n",
    "    optimizer = optim.Adam(cnn.parameters(), lr = 0.01)   \n",
    "    total_step = len(trainData)\n",
    "        \n",
    "    for epoch in range(num_epochs):\n",
    "        loss_per_epoch = 0\n",
    "        for i, (images, labels) in enumerate(trainData):\n",
    "            \n",
    "            b_x = Variable(images)   # batch x\n",
    "            b_y = Variable(labels)   # batch y\n",
    "            output = cnn(b_x)  \n",
    "            if(Temp > 0):\n",
    "                output = F.log_softmax(output/Temp,dim=1)       # to incorporate the defense in the code for question 5\n",
    "            loss = loss_func(output, b_y)\n",
    "              \n",
    "            optimizer.zero_grad()           \n",
    "            \n",
    "            loss.backward()              \n",
    "            optimizer.step()                \n",
    "            loss_per_epoch+=loss.item()\n",
    "            \n",
    "        print ('Epoch [{}/{}],  Loss: {:.4f}' \n",
    "                       .format(epoch + 1, num_epochs,  loss_per_epoch/total_step))\n",
    "        loss_val.append(loss_per_epoch/total_step)\n",
    "\n",
    "    return loss_val\n",
    "epochs = 10\n",
    "loss_val = train(epochs, cnn, trainData)"
   ]
  },
  {
   "cell_type": "code",
   "execution_count": 273,
   "metadata": {},
   "outputs": [
    {
     "data": {
      "text/plain": [
       "[<matplotlib.lines.Line2D at 0x227bff68be0>]"
      ]
     },
     "execution_count": 273,
     "metadata": {},
     "output_type": "execute_result"
    },
    {
     "data": {
      "image/png": "[encoded data removed]",
      "text/plain": [
       "<Figure size 432x288 with 1 Axes>"
      ]
     },
     "metadata": {
      "needs_background": "light"
     },
     "output_type": "display_data"
    }
   ],
   "source": [
    "\n",
    "plt.plot(np.arange(1,epochs+1),loss_val)"
   ]
  },
  {
   "cell_type": "code",
   "execution_count": 274,
   "metadata": {},
   "outputs": [
    {
     "name": "stderr",
     "output_type": "stream",
     "text": [
      "C:\\Users\\Admin\\AppData\\Local\\Programs\\Python\\Python310\\lib\\site-packages\\torch\\nn\\functional.py:1320: UserWarning: dropout2d: Received a 2-D input to dropout2d, which is deprecated and will result in an error in a future release. To retain the behavior and silence this warning, please use dropout instead. Note that dropout2d exists to provide channel-wise dropout on inputs with 2 spatial dimensions, a channel dimension, and an optional batch dimension (i.e. 3D or 4D inputs).\n",
      "  warnings.warn(warn_msg)\n"
     ]
    },
    {
     "name": "stdout",
     "output_type": "stream",
     "text": [
      "Test Accuracy of the model on the 10000 test images: 0.98\n"
     ]
    }
   ],
   "source": [
    "def test():\n",
    "    # Test the model\n",
    "    cnn.eval()\n",
    "    with torch.no_grad():\n",
    "        correct = 0\n",
    "        total = 0\n",
    "        for images, labels in testData:\n",
    "            test_output= cnn(images)\n",
    "            pred_y = torch.max(test_output, 1)[1].data.squeeze()\n",
    "            accuracy = (pred_y == labels).sum().item() / float(labels.size(0))\n",
    "            pass\n",
    "    print('Test Accuracy of the model on the 10000 test images: %.2f' % accuracy)\n",
    "    \n",
    "    pass\n",
    "test()"
   ]
  },
  {
   "cell_type": "code",
   "execution_count": 275,
   "metadata": {
    "scrolled": true
   },
   "outputs": [
    {
     "name": "stdout",
     "output_type": "stream",
     "text": [
      "CUDA Available:  False\n"
     ]
    },
    {
     "data": {
      "text/plain": [
       "CNN(\n",
       "  (conv1): Sequential(\n",
       "    (0): Conv2d(1, 15, kernel_size=(5, 5), stride=(1, 1))\n",
       "    (1): MaxPool2d(kernel_size=2, stride=2, padding=0, dilation=1, ceil_mode=False)\n",
       "    (2): ReLU()\n",
       "  )\n",
       "  (conv2): Sequential(\n",
       "    (0): Conv2d(15, 30, kernel_size=(5, 5), stride=(1, 1))\n",
       "    (1): Dropout2d(p=0.5, inplace=False)\n",
       "    (2): MaxPool2d(kernel_size=2, stride=2, padding=0, dilation=1, ceil_mode=False)\n",
       "    (3): ReLU()\n",
       "  )\n",
       "  (fc1): Linear(in_features=480, out_features=64, bias=True)\n",
       "  (fc2): Linear(in_features=64, out_features=10, bias=True)\n",
       "  (dropout): Dropout2d(p=0.5, inplace=False)\n",
       ")"
      ]
     },
     "execution_count": 275,
     "metadata": {},
     "output_type": "execute_result"
    }
   ],
   "source": [
    "torch.save(cnn.state_dict(), \"trained_model.pth\")\n",
    "epsilons = [0, .05, .15, .25]\n",
    "pretrained_model = \"trained_model.pth\"\n",
    "use_cuda=True\n",
    "print(\"CUDA Available: \",torch.cuda.is_available())\n",
    "device = torch.device(\"cuda\" if (use_cuda and torch.cuda.is_available()) else \"cpu\")\n",
    "\n",
    "# Initialize the network\n",
    "model = CNN().to(device)\n",
    "\n",
    "# Load the pretrained model\n",
    "model.load_state_dict(torch.load(pretrained_model))\n",
    "\n",
    "# Set the model in evaluation mode. In this case this is for the Dropout layers\n",
    "model.eval()"
   ]
  },
  {
   "cell_type": "code",
   "execution_count": 276,
   "metadata": {},
   "outputs": [],
   "source": [
    "# FGSM attack code\n",
    "def fgsm_attack(image, epsilon, data_grad):\n",
    "    # Collect the element-wise sign of the data gradient\n",
    "    sign_data_grad = data_grad.sign()\n",
    "    # Create the perturbed image by adjusting each pixel of the input image\n",
    "    perturbed_image = image + epsilon*sign_data_grad\n",
    "    # Adding clipping to maintain [0,1] range\n",
    "    perturbed_image = torch.clamp(perturbed_image, 0, 1)\n",
    "    # Return the perturbed image\n",
    "    return perturbed_image"
   ]
  },
  {
   "cell_type": "code",
   "execution_count": 277,
   "metadata": {},
   "outputs": [],
   "source": [
    "def test( model, device, testData, epsilon, Temp = 0):\n",
    "\n",
    "    correct = 0\n",
    "    adv_examples = []\n",
    "\n",
    "    for data, target in testData:\n",
    "\n",
    "        data, target = data.to(device), target.to(device)\n",
    "        data.requires_grad = True\n",
    "\n",
    "        output = model(data)\n",
    "        if (Temp >0):\n",
    "            output = F.log_softmax(output/Temp,dim=1)     # to incorporate the defense in the code for question 5\n",
    "        init_pred = output.max(1, keepdim=True)[1] \n",
    "        if init_pred.item() != target.item():\n",
    "            continue\n",
    "        loss = F.nll_loss(output, target)\n",
    "        model.zero_grad()\n",
    "\n",
    "        loss.backward()\n",
    "        data_grad = data.grad.data\n",
    "        perturbed_data = fgsm_attack(data, epsilon, data_grad)\n",
    "        output = model(perturbed_data)\n",
    "        final_pred = output.max(1, keepdim=True)[1] # get the index of the max log-probability\n",
    "        if final_pred.item() == target.item():\n",
    "            correct += 1\n",
    "            if (epsilon == 0) and (len(adv_examples) < 5):\n",
    "                adv_ex = perturbed_data.squeeze().detach().cpu().numpy()\n",
    "                adv_examples.append( (init_pred.item(), final_pred.item(), adv_ex) )\n",
    "        else:\n",
    "            if len(adv_examples) < 5:\n",
    "                adv_ex = perturbed_data.squeeze().detach().cpu().numpy()\n",
    "                adv_examples.append( (init_pred.item(), final_pred.item(), adv_ex) )\n",
    "\n",
    "    # Calculate final accuracy for this epsilon\n",
    "    final_acc = correct/float(len(testData))\n",
    "    print(\"Epsilon: {}\\tTest Accuracy = {} / {} = {}\".format(epsilon, correct, len(testData), final_acc))\n",
    "\n",
    "    # Return the accuracy and an adversarial example\n",
    "    return final_acc, adv_examples"
   ]
  },
  {
   "cell_type": "code",
   "execution_count": 278,
   "metadata": {},
   "outputs": [
    {
     "name": "stdout",
     "output_type": "stream",
     "text": [
      "Epsilon: 0\tTest Accuracy = 9666 / 10000 = 0.9666\n",
      "Epsilon: 0.05\tTest Accuracy = 5132 / 10000 = 0.5132\n",
      "Epsilon: 0.15\tTest Accuracy = 1553 / 10000 = 0.1553\n",
      "Epsilon: 0.25\tTest Accuracy = 1254 / 10000 = 0.1254\n"
     ]
    }
   ],
   "source": [
    "accuracies = []\n",
    "examples = []\n",
    "\n",
    "# Run test for each epsilon\n",
    "for eps in epsilons:\n",
    "    acc, ex = test(model, device, valData, eps)\n",
    "    accuracies.append(acc)\n",
    "    examples.append(ex)"
   ]
  },
  {
   "cell_type": "code",
   "execution_count": 279,
   "metadata": {},
   "outputs": [
    {
     "data": {
      "image/png": "[encoded data removed]",
      "text/plain": [
       "<Figure size 360x360 with 1 Axes>"
      ]
     },
     "metadata": {
      "needs_background": "light"
     },
     "output_type": "display_data"
    }
   ],
   "source": [
    "import numpy as np\n",
    "plt.figure(figsize=(5,5))\n",
    "plt.plot(epsilons, accuracies, \"*-\")\n",
    "plt.yticks(np.arange(0, 1.1, step=0.1))\n",
    "plt.xticks(np.arange(0, .35, step=0.05))\n",
    "plt.title(\"Accuracy vs Epsilon\")\n",
    "plt.xlabel(\"Epsilon\")\n",
    "plt.ylabel(\"Accuracy\")\n",
    "plt.show()"
   ]
  },
  {
   "cell_type": "code",
   "execution_count": 280,
   "metadata": {},
   "outputs": [
    {
     "data": {
      "image/png": "[encoded data removed]",
      "text/plain": [
       "<Figure size 576x720 with 20 Axes>"
      ]
     },
     "metadata": {},
     "output_type": "display_data"
    }
   ],
   "source": [
    "# Plot several examples of adversarial samples at each epsilon\n",
    "cnt = 0\n",
    "plt.figure(figsize=(8,10))\n",
    "for i in range(len(epsilons)):\n",
    "    for j in range(len(examples[i])):\n",
    "        cnt += 1\n",
    "        plt.subplot(len(epsilons),len(examples[0]),cnt)\n",
    "        plt.xticks([], [])\n",
    "        plt.yticks([], [])\n",
    "        if j == 0:\n",
    "            plt.ylabel(\"Eps: {}\".format(epsilons[i]), fontsize=14)\n",
    "        orig,adv,ex = examples[i][j]\n",
    "        plt.title(\"{} -> {}\".format(orig, adv))\n",
    "        plt.imshow(ex, cmap=\"gray\")\n",
    "plt.tight_layout()\n",
    "plt.show()"
   ]
  },
  {
   "cell_type": "markdown",
   "metadata": {},
   "source": [
    "#### Defensive Distillation to reduce the effectiveness of adversarial samples on neural networks"
   ]
  },
  {
   "cell_type": "code",
   "execution_count": 288,
   "metadata": {},
   "outputs": [],
   "source": [
    "class CNN1(nn.Module):\n",
    "    def __init__(self):\n",
    "        super(CNN1, self).__init__()\n",
    "        self.conv1 = nn.Sequential(         \n",
    "            nn.Conv2d(\n",
    "                in_channels=1,              \n",
    "                out_channels=8,            \n",
    "                kernel_size=5,              \n",
    "                stride=1,               \n",
    "            ),    \n",
    "            nn.MaxPool2d(kernel_size=2), \n",
    "            nn.ReLU(),                           \n",
    "        )\n",
    "        self.conv2 = nn.Sequential(         \n",
    "            nn.Conv2d(8, 15, 5), \n",
    "            nn.Dropout2d(0.5),\n",
    "            nn.MaxPool2d(2),\n",
    "            nn.ReLU(),                                   \n",
    "        )\n",
    "        # fully connected layer, output 10 classes\n",
    "        self.fc1 = nn.Linear(240,32)\n",
    "        self.fc2 = nn.Linear(32,10) \n",
    "        self.dropout = nn.Dropout2d(0.5)\n",
    "    def forward(self, x):\n",
    "        x = self.conv1(x)\n",
    "        x = self.conv2(x)\n",
    "        x = x.view(x.size(0), -1)     \n",
    "        x = F.relu(self.fc1(x))\n",
    "        x = self.dropout(x)\n",
    "        x = self.fc2(x)\n",
    "        output = F.log_softmax(x, dim = 1)\n",
    "        return output"
   ]
  },
  {
   "cell_type": "code",
   "execution_count": 289,
   "metadata": {},
   "outputs": [],
   "source": [
    "\n",
    "def defense(device,train_loader,val_loader,test_loader,epochs,Temp,epsilons):\n",
    "\n",
    "    modelF = CNN().to(device)\n",
    "    \n",
    "    modelF1 = CNN1().to(device)\n",
    "    print(\"Epoch - Loss for Model 1 - modelF\")\n",
    "    lossF=train(epochs, modelF, train_loader, Temp)\n",
    "    \n",
    "  #converting target labels to soft labels\n",
    "    for data in train_loader:\n",
    "        input, label  = data[0].to(device),data[1].to(device)\n",
    "        softlabel  = F.log_softmax(modelF(input),dim=1)\n",
    "        data[1] = softlabel\n",
    "\n",
    "    print(\"Epoch - Loss for Model 2 - modelF1\")\n",
    "    lossF1=train(epochs, modelF1, train_loader, Temp)\n",
    "\n",
    "    model = CNN1().to(device)\n",
    "    model.load_state_dict(modelF1.state_dict())\n",
    "    \n",
    "    accuracies = []\n",
    "    examples = []\n",
    "    for eps in epsilons:\n",
    "        acc, ex = test(model,device,val_loader,eps,1)\n",
    "        accuracies.append(acc)\n",
    "        examples.append(ex)\n",
    "    \n",
    "    plt.figure(figsize=(5,5))\n",
    "    plt.plot(epsilons, accuracies, \"*-\")\n",
    "    plt.title(\"FGSM\")\n",
    "    plt.xlabel(\"Epsilon\")\n",
    "    plt.ylabel(\"Accuracy\")\n",
    "    plt.show()\n"
   ]
  },
  {
   "cell_type": "code",
   "execution_count": 290,
   "metadata": {},
   "outputs": [
    {
     "name": "stdout",
     "output_type": "stream",
     "text": [
      "Epoch - Loss for Model 1 - modelF\n",
      "Epoch [1/10],  Loss: 1.3576\n",
      "Epoch [2/10],  Loss: 1.2216\n",
      "Epoch [3/10],  Loss: 1.2128\n",
      "Epoch [4/10],  Loss: 1.2021\n",
      "Epoch [5/10],  Loss: 1.1955\n",
      "Epoch [6/10],  Loss: 1.2057\n",
      "Epoch [7/10],  Loss: 1.1825\n",
      "Epoch [8/10],  Loss: 1.1889\n",
      "Epoch [9/10],  Loss: 1.1862\n",
      "Epoch [10/10],  Loss: 1.1880\n",
      "Epoch - Loss for Model 2 - modelF1\n",
      "Epoch [1/10],  Loss: 1.4089\n",
      "Epoch [2/10],  Loss: 1.2723\n",
      "Epoch [3/10],  Loss: 1.2386\n",
      "Epoch [4/10],  Loss: 1.2240\n",
      "Epoch [5/10],  Loss: 1.2235\n",
      "Epoch [6/10],  Loss: 1.2196\n",
      "Epoch [7/10],  Loss: 1.2235\n",
      "Epoch [8/10],  Loss: 1.2128\n",
      "Epoch [9/10],  Loss: 1.2106\n",
      "Epoch [10/10],  Loss: 1.2162\n",
      "Epsilon: 0\tTest Accuracy = 3096 / 10000 = 0.3096\n",
      "Epsilon: 0.05\tTest Accuracy = 3142 / 10000 = 0.3142\n",
      "Epsilon: 0.15\tTest Accuracy = 3028 / 10000 = 0.3028\n",
      "Epsilon: 0.25\tTest Accuracy = 3111 / 10000 = 0.3111\n"
     ]
    },
    {
     "data": {
      "image/png": "[encoded data removed]",
      "text/plain": [
       "<Figure size 360x360 with 1 Axes>"
      ]
     },
     "metadata": {
      "needs_background": "light"
     },
     "output_type": "display_data"
    }
   ],
   "source": [
    "Temp=100\n",
    "epochs=10\n",
    "defense(device,trainData,valData,testData,epochs,Temp,epsilons)"
   ]
  },
  {
   "cell_type": "markdown",
   "metadata": {},
   "source": [
    "Results from step 4 tell that FGSM attack reduces the test accuracy from 96.66% to 12.54% with epsilon from 0 to 0.25 where as during the defensive distillation used same network as modelF and modelF1, the accuracy is between 31% - 30%.\n",
    "\n",
    "The drawback of using the defensive distilation is that it is bound by the general rules of the first model. The method is still prone to other attacks where the initial training dataset is corrupted."
   ]
  }
 ],
 "metadata": {
  "kernelspec": {
   "display_name": "Python 3 (ipykernel)",
   "language": "python",
   "name": "python3"
  },
  "language_info": {
   "codemirror_mode": {
    "name": "ipython",
    "version": 3
   },
   "file_extension": ".py",
   "mimetype": "text/x-python",
   "name": "python",
   "nbconvert_exporter": "python",
   "pygments_lexer": "ipython3",
   "version": "3.10.1"
  }
 },
 "nbformat": 4,
 "nbformat_minor": 2
}
